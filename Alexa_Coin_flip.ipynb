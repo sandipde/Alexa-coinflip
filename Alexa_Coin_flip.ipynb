{
 "cells": [
  {
   "cell_type": "markdown",
   "metadata": {},
   "source": [
    "# Define the function to Ask Alexa and detect the answers"
   ]
  },
  {
   "cell_type": "code",
   "execution_count": 1,
   "metadata": {
    "scrolled": true
   },
   "outputs": [],
   "source": [
    "#Author: Sandip De\n",
    "#Date: 13.04.2020\n",
    "#email: 1sandipde@gmail.com\n",
    "\n",
    "import sounddevice as sd\n",
    "import os,time\n",
    "import soundfile as sf\n",
    "import speech_recognition as sr\n",
    "\n",
    "from playsound import playsound\n",
    "\n",
    "def ask_alexa(question_audio):\n",
    "\n",
    "    r = sr.Recognizer()\n",
    "    \n",
    "    \n",
    "    #Play the question \n",
    "    print (\"Playing\",end=\"\")\n",
    "    fs=44100\n",
    "    sd.playrec(question_audio, fs, channels=1)\n",
    "    time.sleep(2.8)\n",
    "    \n",
    "    \n",
    "    \n",
    "    # record answer from ALexa\n",
    "    \n",
    "    print('\\r Recording',end='')\n",
    "\n",
    "    duration = 8  # seconds\n",
    "   \n",
    "    myrecording = sd.rec(int(duration * fs), samplerate=fs, channels=1,blocking=True)    \n",
    "#     time.sleep(5)\n",
    "    \n",
    "    # write audio to wav format file\n",
    "    \n",
    "    unique_filename = str(uuid.uuid4())\n",
    "\n",
    "    sf.write('{}.wav'.format(unique_filename),samplerate=fs,data=myrecording)\n",
    "\n",
    "    audiofile=sr.AudioFile('{}.wav'.format(unique_filename))\n",
    "    \n",
    "    \n",
    "    \n",
    "    # recognize the audio via google api and get all possible variation of the texts.\n",
    "    \n",
    "    with audiofile as source:\n",
    "        audio=r.record(source)\n",
    "\n",
    "    print('\\rRecognising',end=\"\")\n",
    "\n",
    "    text=r.recognize_google(audio,show_all=True)\n",
    "#     print(text)\n",
    "    return text\n",
    " \n",
    "  \n",
    "\n",
    "\n",
    "\n",
    "def process_response(text):\n",
    "    if len(text)>0:\n",
    "        data=[t['transcript'] for t in text['alternative']]\n",
    "        data=' '.join(data)\n",
    "#         print(data)\n",
    "        hl=['head','heads','hurts','hair','ahead','had','has','hairs','home']\n",
    "        \n",
    "        result='TAILS'\n",
    "        \n",
    "        for h in hl:\n",
    "            if h in data.lower():\n",
    "\n",
    "                result='HEADS'\n",
    "                return result\n",
    "                \n",
    "\n",
    "           \n",
    "        return result\n",
    "    else:\n",
    "        return \"Failed\""
   ]
  },
  {
   "cell_type": "markdown",
   "metadata": {},
   "source": [
    "# record question"
   ]
  },
  {
   "cell_type": "code",
   "execution_count": 540,
   "metadata": {},
   "outputs": [],
   "source": [
    "fs=44100\n",
    "duration=3\n",
    "\n",
    "flip = sd.rec(int(duration * fs), samplerate=fs, channels=2)"
   ]
  },
  {
   "cell_type": "markdown",
   "metadata": {},
   "source": [
    "## test playback"
   ]
  },
  {
   "cell_type": "code",
   "execution_count": 541,
   "metadata": {},
   "outputs": [
    {
     "data": {
      "text/plain": [
       "array([[0., 0.],\n",
       "       [0., 0.],\n",
       "       [0., 0.],\n",
       "       ...,\n",
       "       [0., 0.],\n",
       "       [0., 0.],\n",
       "       [0., 0.]], dtype=float32)"
      ]
     },
     "execution_count": 541,
     "metadata": {},
     "output_type": "execute_result"
    }
   ],
   "source": [
    "sd.playrec(flip, fs, channels=2)"
   ]
  },
  {
   "cell_type": "markdown",
   "metadata": {},
   "source": [
    "## Ask Alexa , Detect response, repeat .. ! "
   ]
  },
  {
   "cell_type": "code",
   "execution_count": 588,
   "metadata": {
    "scrolled": true
   },
   "outputs": [
    {
     "name": "stdout",
     "output_type": "stream",
     "text": [
      "Recognising           0       |  HEADS  | \n",
      "Recognising           1       |  HEADS  | \n",
      "Recognising           2       |  TAILS  | \n",
      "Recognising           3       |  TAILS  | \n",
      "Recognising           4       |  HEADS  | \n",
      "Recognising           5       |  HEADS  | \n",
      "Recognising           6       |  TAILS  | \n",
      "Recognising           7       |  HEADS  | \n",
      "Recognising           8       |  TAILS  | \n",
      "Recognising           9       |  TAILS  | \n",
      "Recognising           10       |  HEADS  | \n",
      "Recognising           11       |  HEADS  | \n",
      "Recognising           12       |  TAILS  | \n",
      "Recognising           13       |  HEADS  | \n",
      "Recognising           14       |  HEADS  | \n",
      "Recognising           15       |  TAILS  | \n",
      "Recognising           16       |  TAILS  | \n",
      "Recognising           17       |  TAILS  | \n",
      "Recognising           18       |  HEADS  | \n",
      "Recognising           19       |  TAILS  | \n",
      "Recognising           20       |  TAILS  | \n",
      "Recognising           21       |  TAILS  | \n",
      "Recognising           22       |  HEADS  | \n",
      "Recognising           23       |  HEADS  | \n",
      "Recognising           24       |  HEADS  | \n",
      "Recognising           25       |  HEADS  | \n",
      "Recognising           26       |  TAILS  | \n",
      "Recognising           27       |  HEADS  | \n",
      "Recognising           28       |  HEADS  | \n",
      "Recognising           29       |  TAILS  | \n",
      "Recognising           30       |  HEADS  | \n",
      "Recognising           31       |  Failed  | \n",
      "Recognising           32       |  HEADS  | \n",
      "Recognising           33       |  HEADS  | \n",
      "Recognising           34       |  Failed  | \n",
      "Recognising           35       |  HEADS  | \n",
      "Recognising           36       |  TAILS  | \n",
      "Recognising           37       |  Failed  | \n",
      "Recognising           38       |  HEADS  | \n",
      "Recognising           39       |  TAILS  | \n",
      "Recognising           40       |  TAILS  | \n",
      "Recognising           41       |  TAILS  | \n",
      "Recognising           42       |  Failed  | \n",
      "Recognising           43       |  HEADS  | \n",
      "Recognising           44       |  Failed  | \n",
      "Recognising           45       |  TAILS  | \n",
      "Recognising           46       |  Failed  | \n",
      "Recognising           47       |  TAILS  | \n",
      "Recognising           48       |  HEADS  | \n",
      "Recognising           49       |  TAILS  | \n",
      "Recognising           50       |  HEADS  | \n",
      "Recognising           51       |  TAILS  | \n",
      "Recognising           52       |  HEADS  | \n",
      "Recognising           53       |  TAILS  | \n",
      "Recognising           54       |  Failed  | \n",
      "Recognising           55       |  Failed  | \n",
      "Recognising           56       |  Failed  | \n",
      "Recognising           57       |  TAILS  | \n",
      "Recognising           58       |  HEADS  | \n",
      "Recognising           59       |  TAILS  | \n",
      "Recognising           60       |  HEADS  | \n",
      "Recognising           61       |  HEADS  | \n",
      "Recognising           62       |  HEADS  | \n",
      "Recognising           63       |  TAILS  | \n",
      "Recognising           64       |  TAILS  | \n",
      "Recognising           65       |  TAILS  | \n",
      "Recognising           66       |  TAILS  | \n",
      "Recognising           67       |  HEADS  | \n",
      "Recognising           68       |  TAILS  | \n",
      "Recognising           69       |  HEADS  | \n",
      "Recognising           70       |  TAILS  | \n",
      "Recognising           71       |  HEADS  | \n",
      "Recognising           72       |  TAILS  | \n",
      "Recognising           73       |  TAILS  | \n",
      "Recognising           74       |  Failed  | \n",
      "Recognising           75       |  Failed  | \n",
      "Recognising           76       |  TAILS  | \n",
      "Recognising           77       |  TAILS  | \n",
      "Recognising           78       |  TAILS  | \n",
      "Recognising           79       |  HEADS  | \n",
      "Recognising           80       |  Failed  | \n",
      "Recognising           81       |  HEADS  | \n",
      "Recognising           82       |  TAILS  | \n",
      "Recognising           83       |  HEADS  | \n",
      "Recognising           84       |  HEADS  | \n",
      "Recognising           85       |  TAILS  | \n",
      "Recognising           86       |  TAILS  | \n",
      "Recognising           87       |  TAILS  | \n",
      "Recognising           88       |  HEADS  | \n",
      "Recognising           89       |  TAILS  | \n",
      "Recognising           90       |  HEADS  | \n",
      "Recognising           91       |  HEADS  | \n",
      "Recognising           92       |  HEADS  | \n",
      "Recognising           93       |  TAILS  | \n",
      "Recognising           94       |  TAILS  | \n",
      "Recognising           95       |  TAILS  | \n",
      "Recognising           96       |  TAILS  | \n",
      "Recognising           97       |  TAILS  | \n",
      "Recognising           98       |  HEADS  | \n",
      "Recognising           99       |  TAILS  | \n"
     ]
    }
   ],
   "source": [
    "responses=[]\n",
    "full_response=[]\n",
    "for i in range(100):\n",
    "    \n",
    "    text=ask_alexa(flip)\n",
    "    full_response.append(text)    \n",
    "    result=process_response(text)\n",
    "    print(\"           {}       |  {}  | \".format(i,result))\n",
    "    responses.append(result)"
   ]
  },
  {
   "cell_type": "markdown",
   "metadata": {},
   "source": [
    "### Analyse results"
   ]
  },
  {
   "cell_type": "code",
   "execution_count": 598,
   "metadata": {},
   "outputs": [],
   "source": [
    "import pandas as pd\n",
    "df=pd.DataFrame(responses,columns=['result'])\n"
   ]
  },
  {
   "cell_type": "code",
   "execution_count": 599,
   "metadata": {},
   "outputs": [
    {
     "data": {
      "text/html": [
       "<div>\n",
       "<style scoped>\n",
       "    .dataframe tbody tr th:only-of-type {\n",
       "        vertical-align: middle;\n",
       "    }\n",
       "\n",
       "    .dataframe tbody tr th {\n",
       "        vertical-align: top;\n",
       "    }\n",
       "\n",
       "    .dataframe thead th {\n",
       "        text-align: right;\n",
       "    }\n",
       "</style>\n",
       "<table border=\"1\" class=\"dataframe\">\n",
       "  <thead>\n",
       "    <tr style=\"text-align: right;\">\n",
       "      <th></th>\n",
       "      <th>result</th>\n",
       "    </tr>\n",
       "  </thead>\n",
       "  <tbody>\n",
       "    <tr>\n",
       "      <td>0</td>\n",
       "      <td>HEADS</td>\n",
       "    </tr>\n",
       "    <tr>\n",
       "      <td>1</td>\n",
       "      <td>HEADS</td>\n",
       "    </tr>\n",
       "    <tr>\n",
       "      <td>2</td>\n",
       "      <td>TAILS</td>\n",
       "    </tr>\n",
       "    <tr>\n",
       "      <td>3</td>\n",
       "      <td>TAILS</td>\n",
       "    </tr>\n",
       "    <tr>\n",
       "      <td>4</td>\n",
       "      <td>HEADS</td>\n",
       "    </tr>\n",
       "    <tr>\n",
       "      <td>...</td>\n",
       "      <td>...</td>\n",
       "    </tr>\n",
       "    <tr>\n",
       "      <td>95</td>\n",
       "      <td>TAILS</td>\n",
       "    </tr>\n",
       "    <tr>\n",
       "      <td>96</td>\n",
       "      <td>TAILS</td>\n",
       "    </tr>\n",
       "    <tr>\n",
       "      <td>97</td>\n",
       "      <td>TAILS</td>\n",
       "    </tr>\n",
       "    <tr>\n",
       "      <td>98</td>\n",
       "      <td>HEADS</td>\n",
       "    </tr>\n",
       "    <tr>\n",
       "      <td>99</td>\n",
       "      <td>TAILS</td>\n",
       "    </tr>\n",
       "  </tbody>\n",
       "</table>\n",
       "<p>100 rows × 1 columns</p>\n",
       "</div>"
      ],
      "text/plain": [
       "   result\n",
       "0   HEADS\n",
       "1   HEADS\n",
       "2   TAILS\n",
       "3   TAILS\n",
       "4   HEADS\n",
       "..    ...\n",
       "95  TAILS\n",
       "96  TAILS\n",
       "97  TAILS\n",
       "98  HEADS\n",
       "99  TAILS\n",
       "\n",
       "[100 rows x 1 columns]"
      ]
     },
     "execution_count": 599,
     "metadata": {},
     "output_type": "execute_result"
    }
   ],
   "source": [
    "df"
   ]
  },
  {
   "cell_type": "code",
   "execution_count": 605,
   "metadata": {},
   "outputs": [
    {
     "data": {
      "text/plain": [
       "<matplotlib.axes._subplots.AxesSubplot at 0x23b7194b948>"
      ]
     },
     "execution_count": 605,
     "metadata": {},
     "output_type": "execute_result"
    },
    {
     "data": {
      "image/png": "[encoded data removed]",
      "text/plain": [
       "<Figure size 1440x720 with 1 Axes>"
      ]
     },
     "metadata": {
      "needs_background": "light"
     },
     "output_type": "display_data"
    }
   ],
   "source": [
    "plt.figure(figsize=(20,10))\n",
    "\n",
    "plt.rc('xtick', labelsize=20) \n",
    "plt.rc('ytick', labelsize=20) \n",
    "df['result'].value_counts().plot(kind='bar')"
   ]
  },
  {
   "cell_type": "code",
   "execution_count": null,
   "metadata": {},
   "outputs": [],
   "source": []
  }
 ],
 "metadata": {
  "kernelspec": {
   "display_name": "Python 3",
   "language": "python",
   "name": "python3"
  },
  "language_info": {
   "codemirror_mode": {
    "name": "ipython",
    "version": 3
   },
   "file_extension": ".py",
   "mimetype": "text/x-python",
   "name": "python",
   "nbconvert_exporter": "python",
   "pygments_lexer": "ipython3",
   "version": "3.7.4"
  }
 },
 "nbformat": 4,
 "nbformat_minor": 2
}
